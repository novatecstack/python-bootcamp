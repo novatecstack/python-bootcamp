{
 "cells": [
  {
   "cell_type": "markdown",
   "id": "ac8874f0",
   "metadata": {},
   "source": [
    "<font size=\"6\" face=\"Candara\" color=\"#00D989\">Python Operators</font>\n",
    "\n",
    "- Comparision operators (==, !=, >, <, >=, <=)\n",
    "- Logical operators (and, or, not)"
   ]
  },
  {
   "cell_type": "code",
   "execution_count": null,
   "id": "0314a29e",
   "metadata": {},
   "outputs": [],
   "source": []
  }
 ],
 "metadata": {
  "kernelspec": {
   "display_name": "Python 3 (ipykernel)",
   "language": "python",
   "name": "python3"
  },
  "language_info": {
   "codemirror_mode": {
    "name": "ipython",
    "version": 3
   },
   "file_extension": ".py",
   "mimetype": "text/x-python",
   "name": "python",
   "nbconvert_exporter": "python",
   "pygments_lexer": "ipython3",
   "version": "3.11.4"
  }
 },
 "nbformat": 4,
 "nbformat_minor": 5
}
