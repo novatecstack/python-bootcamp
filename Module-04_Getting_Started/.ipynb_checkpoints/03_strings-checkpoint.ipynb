{
 "cells": [
  {
   "cell_type": "markdown",
   "id": "21ae554f",
   "metadata": {},
   "source": [
    "<font size=\"6\" face=\"Candara\" color=\"#00D989\">Working with Python Strings</font>\n",
    " - Strings are sequence of characters\n",
    " - String values should be enclosed in:\n",
    "   - single quotes ('')\n",
    "   - double quotes (\"\")\n",
    "   - triple quotes (\"\"\"Text\"\"\" or '''Text''')\n",
    " "
   ]
  },
  {
   "cell_type": "code",
   "execution_count": 2,
   "id": "78ac00a4",
   "metadata": {},
   "outputs": [
    {
     "data": {
      "text/plain": [
       "str"
      ]
     },
     "execution_count": 2,
     "metadata": {},
     "output_type": "execute_result"
    }
   ],
   "source": [
    "msg = \"Learning Python is awesome\"\n",
    "\n",
    "type(msg)"
   ]
  },
  {
   "cell_type": "code",
   "execution_count": 3,
   "id": "c479fda4",
   "metadata": {},
   "outputs": [
    {
     "data": {
      "text/plain": [
       "str"
      ]
     },
     "execution_count": 3,
     "metadata": {},
     "output_type": "execute_result"
    }
   ],
   "source": [
    "type('2')"
   ]
  },
  {
   "cell_type": "code",
   "execution_count": 4,
   "id": "dbb69fc3",
   "metadata": {},
   "outputs": [
    {
     "name": "stdout",
     "output_type": "stream",
     "text": [
      "Ashish's collegue is a crazy developer\n"
     ]
    }
   ],
   "source": [
    "msg = \"Ashish's collegue is a crazy developer\"\n",
    "print(msg)"
   ]
  },
  {
   "cell_type": "markdown",
   "id": "95b5403d",
   "metadata": {},
   "source": [
    "<font size=\"5\" face=\"Candara\" color=\"#00D989\">Escape Sequence in Python</font>"
   ]
  },
  {
   "cell_type": "code",
   "execution_count": 5,
   "id": "4b802862",
   "metadata": {},
   "outputs": [
    {
     "name": "stdout",
     "output_type": "stream",
     "text": [
      "Ashish's collegue is a crazy developer \n",
      "and has a lot of creative ideas\n"
     ]
    }
   ],
   "source": [
    "# Use of escape sequence (\\n, \\t, \\, \\', \\\", \\r)\n",
    "\n",
    "print(\"Ashish's collegue is a crazy developer \\nand has a lot of creative ideas\")"
   ]
  },
  {
   "cell_type": "markdown",
   "id": "77b7f392",
   "metadata": {},
   "source": [
    "<font size=\"5\" face=\"Candara\" color=\"#00D989\">String Operations</font>\n",
    "- <b>String Indexing</b>: Allows you to access a specific character from a string.\n",
    "\n",
    "- <b>String Slicing</b>: allows you to access specific characters or sequence of characters within a string."
   ]
  },
  {
   "cell_type": "code",
   "execution_count": 8,
   "id": "55c8d4c1",
   "metadata": {},
   "outputs": [
    {
     "data": {
      "text/plain": [
       "'o'"
      ]
     },
     "execution_count": 8,
     "metadata": {},
     "output_type": "execute_result"
    }
   ],
   "source": [
    "# String indexing\n",
    "\n",
    "msg = \"Python is awesome\"\n",
    "msg[4]"
   ]
  },
  {
   "cell_type": "code",
   "execution_count": 9,
   "id": "d565ab55",
   "metadata": {},
   "outputs": [
    {
     "data": {
      "text/plain": [
       "'is'"
      ]
     },
     "execution_count": 9,
     "metadata": {},
     "output_type": "execute_result"
    }
   ],
   "source": [
    "# String slicing | Syntax: string[start, stop, step]\n",
    "\n",
    "msg = \"Python is awesome\"\n",
    "msg[7:9]"
   ]
  },
  {
   "cell_type": "code",
   "execution_count": 10,
   "id": "1c1f7831",
   "metadata": {},
   "outputs": [
    {
     "data": {
      "text/plain": [
       "'Python'"
      ]
     },
     "execution_count": 10,
     "metadata": {},
     "output_type": "execute_result"
    }
   ],
   "source": [
    "# String slicing | Syntax: string[start, stop, step]\n",
    "\n",
    "msg = \"Python is awesome\"\n",
    "msg[:6]"
   ]
  },
  {
   "cell_type": "code",
   "execution_count": 11,
   "id": "941802b9",
   "metadata": {},
   "outputs": [
    {
     "data": {
      "text/plain": [
       "'Pto saeoe'"
      ]
     },
     "execution_count": 11,
     "metadata": {},
     "output_type": "execute_result"
    }
   ],
   "source": [
    "# String slicing | Syntax: string[start, stop, step]\n",
    "\n",
    "msg = \"Python is awesome\"\n",
    "msg[::2]"
   ]
  },
  {
   "cell_type": "code",
   "execution_count": 12,
   "id": "d98ec9a3",
   "metadata": {},
   "outputs": [
    {
     "data": {
      "text/plain": [
       "'is awesome'"
      ]
     },
     "execution_count": 12,
     "metadata": {},
     "output_type": "execute_result"
    }
   ],
   "source": [
    "# String slicing | Syntax: string[start, stop, step]\n",
    "\n",
    "msg = \"Python is awesome\"\n",
    "msg[7:]"
   ]
  },
  {
   "cell_type": "markdown",
   "id": "5f1bc9d6",
   "metadata": {},
   "source": [
    "<font size=\"5\" face=\"Candara\" color=\"maroon\">Challenge: String operations</font>"
   ]
  },
  {
   "cell_type": "markdown",
   "id": "69123657",
   "metadata": {},
   "source": [
    "<font size=\"5\" face=\"Candara\" color=\"#00D989\">String Methods</font>\n",
    "- upper()\n",
    "- lower()\n",
    "- replace(old_text, new_text)\n",
    "- find(text,start,stop)\n",
    "- split()"
   ]
  },
  {
   "cell_type": "code",
   "execution_count": 14,
   "id": "6d548164",
   "metadata": {},
   "outputs": [
    {
     "data": {
      "text/plain": [
       "'PYTHON IS AWESOME'"
      ]
     },
     "execution_count": 14,
     "metadata": {},
     "output_type": "execute_result"
    }
   ],
   "source": [
    "# String upper() method\n",
    "\n",
    "msg = \"Python is awesome\"\n",
    "msg.upper()"
   ]
  },
  {
   "cell_type": "code",
   "execution_count": 15,
   "id": "ef9d760e",
   "metadata": {},
   "outputs": [
    {
     "data": {
      "text/plain": [
       "'python is awesome'"
      ]
     },
     "execution_count": 15,
     "metadata": {},
     "output_type": "execute_result"
    }
   ],
   "source": [
    "# String lower() method\n",
    "\n",
    "msg = \"Python is Awesome\"\n",
    "msg.lower()"
   ]
  },
  {
   "cell_type": "code",
   "execution_count": 16,
   "id": "6207f59a",
   "metadata": {},
   "outputs": [
    {
     "data": {
      "text/plain": [
       "7"
      ]
     },
     "execution_count": 16,
     "metadata": {},
     "output_type": "execute_result"
    }
   ],
   "source": [
    "# String find() method\n",
    "\n",
    "msg = \"Python is awesome\"\n",
    "msg.find('is')"
   ]
  },
  {
   "cell_type": "code",
   "execution_count": 17,
   "id": "c8db0d42",
   "metadata": {},
   "outputs": [
    {
     "data": {
      "text/plain": [
       "'Python is great'"
      ]
     },
     "execution_count": 17,
     "metadata": {},
     "output_type": "execute_result"
    }
   ],
   "source": [
    "# String replace() method\n",
    "\n",
    "msg = \"Python is awesome\"\n",
    "msg.replace('awesome','great')"
   ]
  },
  {
   "cell_type": "code",
   "execution_count": 18,
   "id": "911a5d75",
   "metadata": {},
   "outputs": [
    {
     "data": {
      "text/plain": [
       "['Python', 'is', 'a', 'very', 'flexible', 'language']"
      ]
     },
     "execution_count": 18,
     "metadata": {},
     "output_type": "execute_result"
    }
   ],
   "source": [
    "# String split() method | split the string based on whitespace\n",
    "\n",
    "msg = \"Python is a very flexible language\"\n",
    "msg.split()"
   ]
  },
  {
   "cell_type": "code",
   "execution_count": 19,
   "id": "ea8e322c",
   "metadata": {},
   "outputs": [
    {
     "data": {
      "text/plain": [
       "['Hello Everyone', \" I hope you're enjoying Python\"]"
      ]
     },
     "execution_count": 19,
     "metadata": {},
     "output_type": "execute_result"
    }
   ],
   "source": [
    "# String split() method | split the string based on commas\n",
    "\n",
    "msg = \"Hello Everyone, I hope you're enjoying Python\"\n",
    "msg.split(',')"
   ]
  },
  {
   "cell_type": "markdown",
   "id": "4cc52f19",
   "metadata": {},
   "source": [
    "<font size=\"5\" face=\"Candara\" color=\"#00D989\">String Concatenation & Formatting</font>"
   ]
  },
  {
   "cell_type": "code",
   "execution_count": 25,
   "id": "ce2adeea",
   "metadata": {},
   "outputs": [
    {
     "data": {
      "text/plain": [
       "'Hello World'"
      ]
     },
     "execution_count": 25,
     "metadata": {},
     "output_type": "execute_result"
    }
   ],
   "source": [
    "'Hello'+' World'"
   ]
  },
  {
   "cell_type": "code",
   "execution_count": 26,
   "id": "a2dfb9bb",
   "metadata": {},
   "outputs": [
    {
     "data": {
      "text/plain": [
       "'Hello, my name is Krishna'"
      ]
     },
     "execution_count": 26,
     "metadata": {},
     "output_type": "execute_result"
    }
   ],
   "source": [
    "# String formatting using f string\n",
    "\n",
    "name = 'Krishna'\n",
    "\n",
    "f'Hello, my name is {name}'"
   ]
  },
  {
   "cell_type": "code",
   "execution_count": 28,
   "id": "cc16885f",
   "metadata": {},
   "outputs": [
    {
     "name": "stdout",
     "output_type": "stream",
     "text": [
      "Value of x is 10\n"
     ]
    }
   ],
   "source": [
    "x = 10\n",
    "\n",
    "print(\"Value of x is {0}\".format(x))"
   ]
  },
  {
   "cell_type": "code",
   "execution_count": null,
   "id": "9e02e16e",
   "metadata": {},
   "outputs": [],
   "source": []
  }
 ],
 "metadata": {
  "kernelspec": {
   "display_name": "Python 3 (ipykernel)",
   "language": "python",
   "name": "python3"
  },
  "language_info": {
   "codemirror_mode": {
    "name": "ipython",
    "version": 3
   },
   "file_extension": ".py",
   "mimetype": "text/x-python",
   "name": "python",
   "nbconvert_exporter": "python",
   "pygments_lexer": "ipython3",
   "version": "3.11.4"
  }
 },
 "nbformat": 4,
 "nbformat_minor": 5
}
