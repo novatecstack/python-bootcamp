{
 "cells": [
  {
   "cell_type": "markdown",
   "id": "326c405d",
   "metadata": {},
   "source": [
    "<font size=\"6\" face=\"Candara\" color=\"#00D989\">Working with Lists</font>\n",
    " - Lists are mutable sequence of values or elements enclosed inside square brackets.\n",
    " - List can store multiple values in a single variables.\n",
    " - Lists are ordered and can have duplicate values.\n",
    " - List should start & end with square brackets i.e. [   ] and each element is seperated by a comma\n",
    " - [Reference]"
   ]
  },
  {
   "cell_type": "code",
   "execution_count": null,
   "id": "f196c9bf",
   "metadata": {},
   "outputs": [],
   "source": []
  },
  {
   "cell_type": "code",
   "execution_count": 1,
   "id": "50a19eee",
   "metadata": {},
   "outputs": [],
   "source": [
    "num_list = [10,20,30,40,50]"
   ]
  },
  {
   "cell_type": "code",
   "execution_count": 2,
   "id": "28df3a63",
   "metadata": {},
   "outputs": [],
   "source": [
    "string_list = ['Ashish','Anandi','John','Joe','Greg']"
   ]
  },
  {
   "cell_type": "code",
   "execution_count": 3,
   "id": "cfea91b5",
   "metadata": {},
   "outputs": [
    {
     "data": {
      "text/plain": [
       "40"
      ]
     },
     "execution_count": 3,
     "metadata": {},
     "output_type": "execute_result"
    }
   ],
   "source": [
    "num_list[3]"
   ]
  },
  {
   "cell_type": "code",
   "execution_count": 4,
   "id": "c2da6aa5",
   "metadata": {},
   "outputs": [
    {
     "data": {
      "text/plain": [
       "'Anandi'"
      ]
     },
     "execution_count": 4,
     "metadata": {},
     "output_type": "execute_result"
    }
   ],
   "source": [
    "string_list[1]"
   ]
  },
  {
   "cell_type": "code",
   "execution_count": 6,
   "id": "703ce9e2",
   "metadata": {},
   "outputs": [
    {
     "data": {
      "text/plain": [
       "30"
      ]
     },
     "execution_count": 6,
     "metadata": {},
     "output_type": "execute_result"
    }
   ],
   "source": [
    "num_list[-3]"
   ]
  },
  {
   "cell_type": "code",
   "execution_count": 20,
   "id": "46dd323b",
   "metadata": {},
   "outputs": [
    {
     "data": {
      "text/plain": [
       "[10, 20, 30]"
      ]
     },
     "execution_count": 20,
     "metadata": {},
     "output_type": "execute_result"
    }
   ],
   "source": [
    "num_list[0:3]"
   ]
  },
  {
   "cell_type": "code",
   "execution_count": 21,
   "id": "82198a47",
   "metadata": {},
   "outputs": [
    {
     "data": {
      "text/plain": [
       "list"
      ]
     },
     "execution_count": 21,
     "metadata": {},
     "output_type": "execute_result"
    }
   ],
   "source": [
    "type(num_list)"
   ]
  },
  {
   "cell_type": "code",
   "execution_count": 22,
   "id": "67cb3c76",
   "metadata": {},
   "outputs": [
    {
     "data": {
      "text/plain": [
       "int"
      ]
     },
     "execution_count": 22,
     "metadata": {},
     "output_type": "execute_result"
    }
   ],
   "source": [
    "type(num_list[2])"
   ]
  },
  {
   "cell_type": "code",
   "execution_count": 25,
   "id": "5ca6fec6",
   "metadata": {},
   "outputs": [],
   "source": [
    "list2 = [2,10,'Python',40,50]"
   ]
  },
  {
   "cell_type": "code",
   "execution_count": 26,
   "id": "b00b15a0",
   "metadata": {},
   "outputs": [
    {
     "data": {
      "text/plain": [
       "'Python'"
      ]
     },
     "execution_count": 26,
     "metadata": {},
     "output_type": "execute_result"
    }
   ],
   "source": [
    "list2[2]"
   ]
  },
  {
   "cell_type": "code",
   "execution_count": 27,
   "id": "8928ffdd",
   "metadata": {},
   "outputs": [],
   "source": [
    "list2 = [2,10,['Python',40,50]]"
   ]
  },
  {
   "cell_type": "code",
   "execution_count": 28,
   "id": "37b652da",
   "metadata": {},
   "outputs": [
    {
     "data": {
      "text/plain": [
       "40"
      ]
     },
     "execution_count": 28,
     "metadata": {},
     "output_type": "execute_result"
    }
   ],
   "source": [
    "list2[2][1]"
   ]
  },
  {
   "cell_type": "markdown",
   "id": "ee263135",
   "metadata": {},
   "source": [
    "<font size=\"5\" face=\"Candara\" color=\"#00D989\">Lists are Mutable</font>"
   ]
  },
  {
   "cell_type": "code",
   "execution_count": 30,
   "id": "fb6c43fb",
   "metadata": {},
   "outputs": [],
   "source": [
    "msg = 'hello'"
   ]
  },
  {
   "cell_type": "code",
   "execution_count": 31,
   "id": "f2a96556",
   "metadata": {},
   "outputs": [
    {
     "ename": "TypeError",
     "evalue": "'str' object does not support item assignment",
     "output_type": "error",
     "traceback": [
      "\u001b[1;31m---------------------------------------------------------------------------\u001b[0m",
      "\u001b[1;31mTypeError\u001b[0m                                 Traceback (most recent call last)",
      "Cell \u001b[1;32mIn[31], line 1\u001b[0m\n\u001b[1;32m----> 1\u001b[0m msg[\u001b[38;5;241m2\u001b[39m] \u001b[38;5;241m=\u001b[39m \u001b[38;5;124m'\u001b[39m\u001b[38;5;124ms\u001b[39m\u001b[38;5;124m'\u001b[39m\n",
      "\u001b[1;31mTypeError\u001b[0m: 'str' object does not support item assignment"
     ]
    }
   ],
   "source": [
    "msg[2] = 's'"
   ]
  },
  {
   "cell_type": "code",
   "execution_count": 32,
   "id": "d10ca969",
   "metadata": {},
   "outputs": [],
   "source": [
    "string_list[4] = 'Python'"
   ]
  },
  {
   "cell_type": "code",
   "execution_count": 33,
   "id": "50434848",
   "metadata": {},
   "outputs": [
    {
     "data": {
      "text/plain": [
       "['Ashish', 'Anandi', 'John', 'Joe', 'Python']"
      ]
     },
     "execution_count": 33,
     "metadata": {},
     "output_type": "execute_result"
    }
   ],
   "source": [
    "string_list"
   ]
  },
  {
   "cell_type": "markdown",
   "id": "15908b8b",
   "metadata": {},
   "source": [
    "<font size=\"5\" face=\"Candara\" color=\"#00D989\">Lists Methods</font>\n",
    "\n",
    "- append()\n",
    "- extend()\n",
    "- remove()\n",
    "- insert()"
   ]
  },
  {
   "cell_type": "code",
   "execution_count": 35,
   "id": "bbe2024c",
   "metadata": {},
   "outputs": [],
   "source": [
    "# Append()\n",
    "\n",
    "string_list.append('dotnet')"
   ]
  },
  {
   "cell_type": "code",
   "execution_count": 36,
   "id": "ec7fb50f",
   "metadata": {},
   "outputs": [
    {
     "data": {
      "text/plain": [
       "['Ashish', 'Anandi', 'John', 'Joe', 'Python', 'dotnet']"
      ]
     },
     "execution_count": 36,
     "metadata": {},
     "output_type": "execute_result"
    }
   ],
   "source": [
    "string_list"
   ]
  },
  {
   "cell_type": "code",
   "execution_count": 37,
   "id": "e9804cbb",
   "metadata": {},
   "outputs": [],
   "source": [
    "# extend()\n",
    "\n",
    "newlist = [2,10,40,50]\n",
    "oldlist = [60,70]\n",
    "\n",
    "newlist.extend(oldlist)"
   ]
  },
  {
   "cell_type": "code",
   "execution_count": 38,
   "id": "a3d31555",
   "metadata": {},
   "outputs": [
    {
     "data": {
      "text/plain": [
       "[2, 10, 40, 50, 60, 70]"
      ]
     },
     "execution_count": 38,
     "metadata": {},
     "output_type": "execute_result"
    }
   ],
   "source": [
    "newlist"
   ]
  },
  {
   "cell_type": "code",
   "execution_count": 50,
   "id": "c86b60f5",
   "metadata": {},
   "outputs": [],
   "source": [
    "# remove() | remove only one elemnet at a time\n",
    "\n",
    "string_list.remove('dotnet')"
   ]
  },
  {
   "cell_type": "code",
   "execution_count": 52,
   "id": "6a829fa0",
   "metadata": {},
   "outputs": [],
   "source": [
    "# insert() | insert element at a specific position\n",
    "\n",
    "newlist.insert(3,80)"
   ]
  },
  {
   "cell_type": "code",
   "execution_count": 53,
   "id": "a26e768c",
   "metadata": {},
   "outputs": [
    {
     "data": {
      "text/plain": [
       "[2, 10, 40, 80, 50, 60, 70]"
      ]
     },
     "execution_count": 53,
     "metadata": {},
     "output_type": "execute_result"
    }
   ],
   "source": [
    "newlist"
   ]
  },
  {
   "cell_type": "markdown",
   "id": "1611a79b",
   "metadata": {},
   "source": [
    "<font size=\"5\" face=\"Candara\" color=\"maroon\">Challenge: List Operations</font>"
   ]
  }
 ],
 "metadata": {
  "kernelspec": {
   "display_name": "Python 3 (ipykernel)",
   "language": "python",
   "name": "python3"
  },
  "language_info": {
   "codemirror_mode": {
    "name": "ipython",
    "version": 3
   },
   "file_extension": ".py",
   "mimetype": "text/x-python",
   "name": "python",
   "nbconvert_exporter": "python",
   "pygments_lexer": "ipython3",
   "version": "3.11.4"
  }
 },
 "nbformat": 4,
 "nbformat_minor": 5
}
