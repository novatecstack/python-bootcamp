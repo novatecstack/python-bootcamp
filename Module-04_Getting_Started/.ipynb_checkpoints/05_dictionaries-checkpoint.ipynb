{
 "cells": [
  {
   "cell_type": "markdown",
   "id": "7bd8de2c",
   "metadata": {},
   "source": [
    "<font size=\"6\" face=\"Candara\" color=\"#00D989\">Working with Dictionaries</font>\n",
    " - Dictionaries store data in key-value pair (key:pair).\n",
    " - Dictionaries are ordered (as of Python 3.7).\n",
    " - Dictionaries are mutable.\n",
    " - Dictionaries do not allow duplicates.\n",
    " \n",
    "Example: sample_dict = {'key1':value1, 'key2':value2, 'key3':value3 }\n",
    "  \n",
    " - Dictionaries must start and end with curly braces | each key-value pair must be seperated with comma.\n",
    " - The values in the key pair can be of different data types i.e values can store embedded lists and dictionaries.\n",
    "\n",
    "Example: sample_dict = {'key1':value1, 'key2':[list_object], 'key3':{dictionary_object}}\n"
   ]
  },
  {
   "cell_type": "code",
   "execution_count": 2,
   "id": "3e5f5ca4",
   "metadata": {},
   "outputs": [],
   "source": [
    "dictnry_1 = {'brand': 'Renault', 'speed': 210, 'cost': 40000 }"
   ]
  },
  {
   "cell_type": "code",
   "execution_count": 3,
   "id": "94bf37a2",
   "metadata": {},
   "outputs": [
    {
     "data": {
      "text/plain": [
       "210"
      ]
     },
     "execution_count": 3,
     "metadata": {},
     "output_type": "execute_result"
    }
   ],
   "source": [
    "dictnry_1['speed']"
   ]
  },
  {
   "cell_type": "code",
   "execution_count": 5,
   "id": "9f63e6c9",
   "metadata": {},
   "outputs": [],
   "source": [
    "# Dictionaries are mutable\n",
    "\n",
    "dictnry_1['speed'] = 220"
   ]
  },
  {
   "cell_type": "code",
   "execution_count": 6,
   "id": "60a465c9",
   "metadata": {},
   "outputs": [
    {
     "data": {
      "text/plain": [
       "{'brand': 'Renault', 'speed': 220, 'cost': 40000}"
      ]
     },
     "execution_count": 6,
     "metadata": {},
     "output_type": "execute_result"
    }
   ],
   "source": [
    "dictnry_1"
   ]
  },
  {
   "cell_type": "code",
   "execution_count": 9,
   "id": "0624ba06",
   "metadata": {},
   "outputs": [],
   "source": [
    "# Adding new key-value pair to the Dictionary\n",
    "\n",
    "dictnry_1['transmission'] = 'Automatic'"
   ]
  },
  {
   "cell_type": "code",
   "execution_count": 10,
   "id": "f79408ff",
   "metadata": {},
   "outputs": [
    {
     "data": {
      "text/plain": [
       "{'brand': 'Renault', 'speed': 220, 'cost': 40000, 'transmission': 'Automatic'}"
      ]
     },
     "execution_count": 10,
     "metadata": {},
     "output_type": "execute_result"
    }
   ],
   "source": [
    "dictnry_1"
   ]
  },
  {
   "cell_type": "code",
   "execution_count": 11,
   "id": "e0458ec1",
   "metadata": {},
   "outputs": [],
   "source": [
    "# Dictionary as a value\n",
    "\n",
    "dictnry_1['other_properties'] = {'color':'red', 'model':2023}"
   ]
  },
  {
   "cell_type": "code",
   "execution_count": 12,
   "id": "9bf1c688",
   "metadata": {},
   "outputs": [
    {
     "data": {
      "text/plain": [
       "{'brand': 'Renault',\n",
       " 'speed': 220,\n",
       " 'cost': 40000,\n",
       " 'transmission': 'Automatic',\n",
       " 'other_properties': {'color': 'red', 'model': 2023}}"
      ]
     },
     "execution_count": 12,
     "metadata": {},
     "output_type": "execute_result"
    }
   ],
   "source": [
    "dictnry_1"
   ]
  },
  {
   "cell_type": "code",
   "execution_count": 14,
   "id": "ffc7f085",
   "metadata": {},
   "outputs": [
    {
     "data": {
      "text/plain": [
       "'red'"
      ]
     },
     "execution_count": 14,
     "metadata": {},
     "output_type": "execute_result"
    }
   ],
   "source": [
    "dictnry_1['other_properties']['color']"
   ]
  },
  {
   "cell_type": "markdown",
   "id": "44e6aae1",
   "metadata": {},
   "source": [
    "<font size=\"5\" face=\"Candara\" color=\"#00D989\">Dictionary Methods</font>\n",
    "\n",
    "- pop() : Removes a key-value pair from the dictionary\n",
    "- items() : returns dicionary as a Tuple\n",
    "- keys() : Returns all the keys of a dictionary\n",
    "- values(): Returns all the values of a dictionary\n"
   ]
  },
  {
   "cell_type": "code",
   "execution_count": 16,
   "id": "d34e6141",
   "metadata": {},
   "outputs": [
    {
     "data": {
      "text/plain": [
       "dict_keys(['brand', 'speed', 'cost', 'transmission', 'other_properties'])"
      ]
     },
     "execution_count": 16,
     "metadata": {},
     "output_type": "execute_result"
    }
   ],
   "source": [
    "dictnry_1.keys()"
   ]
  },
  {
   "cell_type": "code",
   "execution_count": 17,
   "id": "bb8d19dd",
   "metadata": {},
   "outputs": [
    {
     "data": {
      "text/plain": [
       "dict_values(['Renault', 220, 40000, 'Automatic', {'color': 'red', 'model': 2023}])"
      ]
     },
     "execution_count": 17,
     "metadata": {},
     "output_type": "execute_result"
    }
   ],
   "source": [
    "dictnry_1.values()"
   ]
  }
 ],
 "metadata": {
  "kernelspec": {
   "display_name": "Python 3 (ipykernel)",
   "language": "python",
   "name": "python3"
  },
  "language_info": {
   "codemirror_mode": {
    "name": "ipython",
    "version": 3
   },
   "file_extension": ".py",
   "mimetype": "text/x-python",
   "name": "python",
   "nbconvert_exporter": "python",
   "pygments_lexer": "ipython3",
   "version": "3.11.4"
  }
 },
 "nbformat": 4,
 "nbformat_minor": 5
}
