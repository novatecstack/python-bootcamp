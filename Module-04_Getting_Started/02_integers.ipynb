{
 "cells": [
  {
   "cell_type": "markdown",
   "id": "3f13e17f",
   "metadata": {},
   "source": [
    "<font size=\"5\" face=\"Candara\" color=\"#00D989\">Integers (Numeric Data type)</font>\n",
    "</br></br>\n",
    "<font size=\"4\" face=\"Candara\" color=\"black\">\n",
    "In Python, there are three distinct numerical data types are there namely:\n",
    "    <ol>\n",
    "        <li>Integer\n",
    "        <li>Float\n",
    "        <li>Complex\n",
    "    </ol>      \n",
    "</font>"
   ]
  },
  {
   "cell_type": "code",
   "execution_count": 1,
   "id": "408eb1b6",
   "metadata": {},
   "outputs": [
    {
     "data": {
      "text/plain": [
       "int"
      ]
     },
     "execution_count": 1,
     "metadata": {},
     "output_type": "execute_result"
    }
   ],
   "source": [
    "# Integer value\n",
    "type(2202)"
   ]
  },
  {
   "cell_type": "code",
   "execution_count": 2,
   "id": "ccdd0922",
   "metadata": {},
   "outputs": [
    {
     "data": {
      "text/plain": [
       "int"
      ]
     },
     "execution_count": 2,
     "metadata": {},
     "output_type": "execute_result"
    }
   ],
   "source": [
    "# Integer value\n",
    "type(-2202)"
   ]
  },
  {
   "cell_type": "code",
   "execution_count": 3,
   "id": "b47964a4",
   "metadata": {},
   "outputs": [
    {
     "data": {
      "text/plain": [
       "float"
      ]
     },
     "execution_count": 3,
     "metadata": {},
     "output_type": "execute_result"
    }
   ],
   "source": [
    "# Float value\n",
    "\n",
    "num = 554.5\n",
    "type(num)"
   ]
  },
  {
   "cell_type": "code",
   "execution_count": 4,
   "id": "d3a79dc3",
   "metadata": {},
   "outputs": [
    {
     "data": {
      "text/plain": [
       "float"
      ]
     },
     "execution_count": 4,
     "metadata": {},
     "output_type": "execute_result"
    }
   ],
   "source": [
    "# Float value\n",
    "\n",
    "num1 = (50/4)\n",
    "type(num1)"
   ]
  },
  {
   "cell_type": "code",
   "execution_count": 5,
   "id": "42703fcd",
   "metadata": {},
   "outputs": [
    {
     "name": "stdout",
     "output_type": "stream",
     "text": [
      "50\n"
     ]
    }
   ],
   "source": [
    "# Arithmatic operations with Integers\n",
    "\n",
    "no1 = 30\n",
    "no2 = 20\n",
    "\n",
    "sum = no1 + no2      # Addition operator (+)\n",
    "print(sum)"
   ]
  },
  {
   "cell_type": "code",
   "execution_count": 6,
   "id": "f3729128",
   "metadata": {},
   "outputs": [
    {
     "name": "stdout",
     "output_type": "stream",
     "text": [
      "33.333333333333336\n"
     ]
    }
   ],
   "source": [
    "print(100/3)  # Division operator"
   ]
  },
  {
   "cell_type": "code",
   "execution_count": 7,
   "id": "84dad16c",
   "metadata": {},
   "outputs": [
    {
     "name": "stdout",
     "output_type": "stream",
     "text": [
      "10\n"
     ]
    }
   ],
   "source": [
    "# Arithmatic operations with Integers\n",
    "\n",
    "no1 = 30\n",
    "no2 = 20\n",
    "\n",
    "sub = no1 - no2      # Subtraction operator (-)\n",
    "print(sub)"
   ]
  },
  {
   "cell_type": "code",
   "execution_count": 8,
   "id": "bb565e80",
   "metadata": {},
   "outputs": [
    {
     "name": "stdout",
     "output_type": "stream",
     "text": [
      "600\n"
     ]
    }
   ],
   "source": [
    "# Arithmatic operations with Integers\n",
    "\n",
    "no1 = 30\n",
    "no2 = 20\n",
    "\n",
    "mul = no1 * no2      # Multiplication operator (*)\n",
    "print(mul)"
   ]
  },
  {
   "cell_type": "code",
   "execution_count": 9,
   "id": "7a75882b",
   "metadata": {},
   "outputs": [
    {
     "name": "stdout",
     "output_type": "stream",
     "text": [
      "10\n"
     ]
    }
   ],
   "source": [
    "# Arithmatic operations with Integers\n",
    "\n",
    "no1 = 30\n",
    "no2 = 20\n",
    "\n",
    "sub = no1 % no2      # Modulo operator (%)\n",
    "print(sub)"
   ]
  },
  {
   "cell_type": "markdown",
   "id": "7dd161d7",
   "metadata": {},
   "source": [
    "<font size=\"5\" face=\"Candara\" color=\"#00D989\">Python follows the PEDMAS order of execution with any expression</font>\n",
    "<font size=\"4\" face=\"Candara\">\n",
    "    \n",
    "P = Parenthesis\n",
    "\n",
    "E = Exponents\n",
    "\n",
    "D = Division\n",
    "\n",
    "M = Multiplication\n",
    "\n",
    "A = Addition\n",
    "\n",
    "S = Subtraction\n",
    "</font>"
   ]
  },
  {
   "cell_type": "code",
   "execution_count": 1,
   "id": "d5dbff29",
   "metadata": {
    "scrolled": true
   },
   "outputs": [
    {
     "data": {
      "text/plain": [
       "385.0"
      ]
     },
     "execution_count": 1,
     "metadata": {},
     "output_type": "execute_result"
    }
   ],
   "source": [
    "2**(3+5)*3/2+2-1"
   ]
  },
  {
   "cell_type": "code",
   "execution_count": null,
   "id": "51b1bb04",
   "metadata": {},
   "outputs": [],
   "source": []
  }
 ],
 "metadata": {
  "kernelspec": {
   "display_name": "Python 3 (ipykernel)",
   "language": "python",
   "name": "python3"
  },
  "language_info": {
   "codemirror_mode": {
    "name": "ipython",
    "version": 3
   },
   "file_extension": ".py",
   "mimetype": "text/x-python",
   "name": "python",
   "nbconvert_exporter": "python",
   "pygments_lexer": "ipython3",
   "version": "3.11.4"
  }
 },
 "nbformat": 4,
 "nbformat_minor": 5
}
