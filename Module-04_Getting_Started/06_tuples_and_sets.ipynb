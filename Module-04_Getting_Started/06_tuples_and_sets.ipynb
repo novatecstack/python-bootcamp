{
 "cells": [
  {
   "cell_type": "markdown",
   "id": "f24e0536",
   "metadata": {},
   "source": [
    "<font size=\"5\" face=\"Candara\" color=\"#00D989\">Tuples</font>\n",
    "- Tuples are ordered collection of values or elements enclosed in a round brackets '( )'\n",
    "- Tuples are immutable (whereas Lists are not)\n",
    "- Tuples can store multiple values into a single variables.\n",
    "- Tuple allows duplicate values\n"
   ]
  },
  {
   "cell_type": "code",
   "execution_count": 2,
   "id": "3b8d5d99",
   "metadata": {},
   "outputs": [],
   "source": [
    "tup = (10,20,30,40,50)"
   ]
  },
  {
   "cell_type": "code",
   "execution_count": 3,
   "id": "a96bf387",
   "metadata": {},
   "outputs": [
    {
     "data": {
      "text/plain": [
       "tuple"
      ]
     },
     "execution_count": 3,
     "metadata": {},
     "output_type": "execute_result"
    }
   ],
   "source": [
    "type(tup)"
   ]
  },
  {
   "cell_type": "code",
   "execution_count": 4,
   "id": "f92b7c5f",
   "metadata": {},
   "outputs": [],
   "source": [
    "# You can store different type of data into tuple\n",
    "\n",
    "tup_1 = (10, 'Anand', [20,22,30,40], {'key1':'value'})"
   ]
  },
  {
   "cell_type": "code",
   "execution_count": 5,
   "id": "0017ef1c",
   "metadata": {},
   "outputs": [
    {
     "data": {
      "text/plain": [
       "tuple"
      ]
     },
     "execution_count": 5,
     "metadata": {},
     "output_type": "execute_result"
    }
   ],
   "source": [
    "type(tup_1)"
   ]
  },
  {
   "cell_type": "code",
   "execution_count": 6,
   "id": "d7d34b56",
   "metadata": {},
   "outputs": [
    {
     "data": {
      "text/plain": [
       "[20, 22, 30, 40]"
      ]
     },
     "execution_count": 6,
     "metadata": {},
     "output_type": "execute_result"
    }
   ],
   "source": [
    "# Fetch the value from tuple\n",
    "\n",
    "tup_1[2]"
   ]
  },
  {
   "cell_type": "code",
   "execution_count": 8,
   "id": "0469eba7",
   "metadata": {
    "scrolled": true
   },
   "outputs": [
    {
     "data": {
      "text/plain": [
       "1"
      ]
     },
     "execution_count": 8,
     "metadata": {},
     "output_type": "execute_result"
    }
   ],
   "source": [
    "# Returns the total number of occurrences of an element in a tuple\n",
    "tup_1.count(10)"
   ]
  },
  {
   "cell_type": "markdown",
   "id": "ca311527",
   "metadata": {},
   "source": [
    "<font size=\"5\" face=\"Candara\" color=\"#00D989\">Sets</font>\n",
    "- Sets are mutable sequence of values or elements enclosed inside a curly braces \"{ }\".\n",
    "- Sets can store multiple values into single variables.\n",
    "- Sets are unordered.\n",
    "- Sets DO NOT ALLOW DUPLICATE VALUES.\n",
    "- You cannot index or slice sets.\n",
    "- Set Methods\n",
    "  - add() : Adds new value to the set"
   ]
  },
  {
   "cell_type": "code",
   "execution_count": 9,
   "id": "8ac0be31",
   "metadata": {},
   "outputs": [],
   "source": [
    "sample_set = {10,20,30,40,50}"
   ]
  },
  {
   "cell_type": "code",
   "execution_count": 10,
   "id": "53bdecfa",
   "metadata": {},
   "outputs": [
    {
     "data": {
      "text/plain": [
       "set"
      ]
     },
     "execution_count": 10,
     "metadata": {},
     "output_type": "execute_result"
    }
   ],
   "source": [
    "type(sample_set)"
   ]
  },
  {
   "cell_type": "code",
   "execution_count": 11,
   "id": "114f32f5",
   "metadata": {},
   "outputs": [],
   "source": [
    "# Adds a new value to the set\n",
    "\n",
    "sample_set.add(60)"
   ]
  },
  {
   "cell_type": "code",
   "execution_count": 12,
   "id": "e2b132e8",
   "metadata": {},
   "outputs": [
    {
     "data": {
      "text/plain": [
       "{10, 20, 30, 40, 50, 60}"
      ]
     },
     "execution_count": 12,
     "metadata": {},
     "output_type": "execute_result"
    }
   ],
   "source": [
    "sample_set"
   ]
  },
  {
   "cell_type": "code",
   "execution_count": 13,
   "id": "0ccc7568",
   "metadata": {},
   "outputs": [],
   "source": [
    "# Convert list to Set\n",
    "\n",
    "sample_list = [23,56,85,23,56]\n",
    "con_set = set(sample_list)"
   ]
  },
  {
   "cell_type": "code",
   "execution_count": 14,
   "id": "79efd33d",
   "metadata": {},
   "outputs": [
    {
     "data": {
      "text/plain": [
       "set"
      ]
     },
     "execution_count": 14,
     "metadata": {},
     "output_type": "execute_result"
    }
   ],
   "source": [
    "type(con_set)"
   ]
  },
  {
   "cell_type": "code",
   "execution_count": null,
   "id": "f31fbc0f",
   "metadata": {},
   "outputs": [],
   "source": []
  }
 ],
 "metadata": {
  "kernelspec": {
   "display_name": "Python 3 (ipykernel)",
   "language": "python",
   "name": "python3"
  },
  "language_info": {
   "codemirror_mode": {
    "name": "ipython",
    "version": 3
   },
   "file_extension": ".py",
   "mimetype": "text/x-python",
   "name": "python",
   "nbconvert_exporter": "python",
   "pygments_lexer": "ipython3",
   "version": "3.11.4"
  }
 },
 "nbformat": 4,
 "nbformat_minor": 5
}
