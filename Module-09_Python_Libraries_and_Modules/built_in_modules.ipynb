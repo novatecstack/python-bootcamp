{
 "cells": [
  {
   "cell_type": "markdown",
   "id": "00a4f7a8",
   "metadata": {},
   "source": [
    "<font size=\"6\" face=\"Candara\" color=\"#00D989\">Python Built-in Modules</font>\n",
    "\n",
    "Python has many built-in modules. For more details, you may refer to https://docs.python.org/3/py-modindex.html "
   ]
  },
  {
   "cell_type": "code",
   "execution_count": 4,
   "id": "bdc1edc3",
   "metadata": {},
   "outputs": [
    {
     "name": "stdout",
     "output_type": "stream",
     "text": [
      "\n",
      "Please wait a moment while I gather a list of all available modules...\n",
      "\n",
      "IPython             conda               menuinst            smtplib\n",
      "OpenSSL             conda_build         mimetypes           snappy\n",
      "PIL                 conda_content_trust mistune             sndhdr\n",
      "PyQt5               conda_env           mkl                 sniffio\n",
      "TBB                 conda_index         mkl_fft             snowballstemmer\n",
      "__future__          conda_libmamba_solver mkl_random          socket\n",
      "__hello__           conda_pack          mmap                socketserver\n",
      "__phello__          conda_package_handling mmapfile            socks\n",
      "_abc                conda_package_streaming mmsystem            sockshandler\n",
      "_aix_support        conda_token         modulefinder        sortedcontainers\n",
      "_argon2_cffi_bindings conda_verify        more_itertools      soupsieve\n",
      "_ast                conf                mpmath              sphinx\n",
      "_asyncio            configparser        msgpack             sphinxify\n",
      "_bisect             constantly          msilib              sphinxthread\n",
      "_black_version      contextlib          msvcrt              spyder\n",
      "_blake2             contextvars         multidict           spyder_kernels\n",
      "_bootsubprocess     contourpy           multipledispatch    sqlalchemy\n",
      "_brotli             cookiecutter        multiprocessing     sqlite3\n",
      "_bz2                copy                munkres             sre_compile\n",
      "_cffi_backend       copyreg             mypy_extensions     sre_constants\n",
      "_codecs             cpuinfo             nacl                sre_parse\n",
      "_codecs_cn          crypt               navigator_updater   ssl\n",
      "_codecs_hk          cryptography        nbclassic           sspi\n",
      "_codecs_iso2022     cssselect           nbclient            sspicon\n",
      "_codecs_jp          csv                 nbconvert           stack_data\n",
      "_codecs_kr          ctypes              nbformat            stat\n",
      "_codecs_tw          curl                nest_asyncio        statistics\n",
      "_collections        curses              netbios             statsmodels\n",
      "_collections_abc    cwp                 netrc               string\n",
      "_compat_pickle      cycler              networkx            stringprep\n",
      "_compression        cytoolz             nltk                struct\n",
      "_contextvars        daal4py             nntplib             subprocess\n",
      "_csv                dash                notebook            sunau\n",
      "_ctypes             dask                notebook_shim       sympy\n",
      "_ctypes_test        dataclasses         nt                  symtable\n",
      "_datetime           datashader          ntpath              sys\n",
      "_decimal            datashape           ntsecuritycon       sysconfig\n",
      "_distutils_hack     datetime            nturl2path          tables\n",
      "_elementtree        dateutil            numba               tabnanny\n",
      "_functools          dbi                 numbergen           tabulate\n",
      "_hashlib            dbm                 numbers             tarfile\n",
      "_heapq              dde                 numexpr             tbb\n",
      "_imp                debugpy             numpy               tblib\n",
      "_io                 decimal             numpydoc            telnetlib\n",
      "_json               decorator           odbc                tempfile\n",
      "_locale             defusedxml          onedal              tenacity\n",
      "_lsprof             diff_match_patch    opcode              terminado\n",
      "_lzma               difflib             openpyxl            test\n",
      "_markupbase         dill                operator            test_pycosat\n",
      "_md5                dis                 optparse            text_unidecode\n",
      "_msi                distributed         orjson              textdistance\n",
      "_multibytecodec     distutils           os                  textwrap\n",
      "_multiprocessing    docstring_to_markdown packaging           this\n",
      "_nsis               doctest             pandas              threading\n",
      "_opcode             docutils            pandocfilters       threadpoolctl\n",
      "_operator           email               panel               three_merge\n",
      "_osx_support        encodings           param               tifffile\n",
      "_overlapped         ensurepip           paramiko            time\n",
      "_pickle             entrypoints         parsel              timeit\n",
      "_plotly_future_     enum                parso               timer\n",
      "_plotly_utils       erfa                partd               tinycss2\n",
      "_py_abc             errno               past                tkinter\n",
      "_pydecimal          et_xmlfile          pathlib             tldextract\n",
      "_pyio               executing           pathspec            tlz\n",
      "_pyrsistent_version fastjsonschema      patsy               token\n",
      "_pytest             faulthandler        pdb                 tokenize\n",
      "_queue              filecmp             pep8                toml\n",
      "_random             fileinput           perfmon             tomlkit\n",
      "_sha1               filelock            pexpect             tomllib\n",
      "_sha256             flake8              pickle              toolz\n",
      "_sha3               flask               pickleshare         tornado\n",
      "_sha512             flask_compress      pickletools         tqdm\n",
      "_signal             flask_cors          pip                 trace\n",
      "_sitebuiltins       fnmatch             pipes               trace_updater\n",
      "_socket             fontTools           pkg_resources       traceback\n",
      "_sqlite3            fractions           pkginfo             tracemalloc\n",
      "_sre                frozenlist          pkgutil             traitlets\n",
      "_ssl                fsspec              platform            transformers\n",
      "_stat               ftplib              platformdirs        tty\n",
      "_statistics         functools           plistlib            turtle\n",
      "_string             future              plotly              turtledemo\n",
      "_strptime           gc                  plotly_resampler    twisted\n",
      "_struct             genericpath         pluggy              types\n",
      "_symtable           gensim              ply                 typing\n",
      "_system_path        getopt              pooch               typing_extensions\n",
      "_testbuffer         getpass             poplib              uc_micro\n",
      "_testcapi           gettext             posixpath           ujson\n",
      "_testconsole        glob                poyo                unicodedata\n",
      "_testimportmultiple glob2               pprint              unidecode\n",
      "_testinternalcapi   graphlib            profile             unittest\n",
      "_testmultiphase     greenlet            prometheus_client   urllib\n",
      "_thread             gzip                prompt_toolkit      urllib3\n",
      "_threading_local    h5py                protego             uu\n",
      "_tkinter            hashlib             pstats              uuid\n",
      "_tokenize           heapdict            psutil              venv\n",
      "_tracemalloc        heapq               pty                 w3lib\n",
      "_typing             hmac                ptyprocess          warnings\n",
      "_uuid               holoviews           pure_eval           watchdog\n",
      "_warnings           html                pvectorc            wave\n",
      "_weakref            http                py                  wcwidth\n",
      "_weakrefset         hvplot              py_compile          weakref\n",
      "_win32sysloader     hyperlink           pyarrow             webbrowser\n",
      "_winapi             idlelib             pyasn1              webencodings\n",
      "_winxptheme         idna                pyasn1_modules      websocket\n",
      "_xxsubinterpreters  imagecodecs         pyclbr              werkzeug\n",
      "_yaml               imageio             pycodestyle         whatthepatch\n",
      "_zoneinfo           imagesize           pycosat             wheel\n",
      "abc                 imaplib             pycparser           widgetsnbextension\n",
      "adodbapi            imblearn            pyct                win2kras\n",
      "afxres              imghdr              pycurl              win32api\n",
      "aifc                imp                 pydispatch          win32clipboard\n",
      "aiobotocore         importlib           pydoc               win32com\n",
      "aiofiles            importlib_metadata  pydoc_data          win32con\n",
      "aiohttp             incremental         pydocstyle          win32console\n",
      "aioitertools        inflection          pyexpat             win32cred\n",
      "aiosignal           iniconfig           pyflakes            win32crypt\n",
      "aiosqlite           inspect             pygments            win32cryptcon\n",
      "alabaster           intake              pylab               win32ctypes\n",
      "anaconda_catalogs   intervaltree        pylint              win32event\n",
      "anaconda_navigator  io                  pylint_venv         win32evtlog\n",
      "anaconda_project    ipaddress           pyls_spyder         win32evtlogutil\n",
      "ansi2html           ipykernel           pylsp               win32file\n",
      "antigravity         ipykernel_launcher  pylsp_black         win32gui\n",
      "anyio               ipython_genutils    pylsp_jsonrpc       win32gui_struct\n",
      "appdirs             ipywidgets          pyodbc              win32help\n",
      "argon2              isapi               pyparsing           win32inet\n",
      "argparse            isort               pyrsistent          win32inetcon\n",
      "array               isympy              pytest              win32job\n",
      "arrow               itemadapter         pythoncom           win32lz\n",
      "ast                 itemloaders         pythonjsonlogger    win32net\n",
      "astroid             itertools           pytoolconfig        win32netcon\n",
      "astropy             itsdangerous        pytz                win32pdh\n",
      "asttokens           jedi                pyviz_comms         win32pdhquery\n",
      "async_timeout       jellyfish           pywin               win32pdhutil\n",
      "asynchat            jinja2              pywin32_bootstrap   win32pipe\n",
      "asyncio             jinja2_time         pywin32_testutil    win32print\n",
      "asyncore            jmespath            pywintypes          win32process\n",
      "atexit              joblib              pywt                win32profile\n",
      "atomicwrites        json                qdarkstyle          win32ras\n",
      "attr                json5               qstylizer           win32rcparser\n",
      "attrs               jsonpatch           qtawesome           win32security\n",
      "audioop             jsonpointer         qtconsole           win32service\n",
      "automat             jsonschema          qtpy                win32serviceutil\n",
      "autopep8            jupyter             queue               win32timezone\n",
      "babel               jupyter_client      queuelib            win32trace\n",
      "backcall            jupyter_console     quopri              win32traceutil\n",
      "backports           jupyter_core        random              win32transaction\n",
      "base64              jupyter_dash        rasutil             win32ts\n",
      "bcrypt              jupyter_events      re                  win32ui\n",
      "bdb                 jupyter_server      regcheck            win32uiole\n",
      "binaryornot         jupyter_server_fileid regex               win32verstamp\n",
      "binascii            jupyter_server_ydoc regutil             win32wnet\n",
      "binstar_client      jupyter_ydoc        repo_cli            win_inet_pton\n",
      "bisect              jupyterlab          reprlib             winerror\n",
      "black               jupyterlab_plotly   requests            winioctlcon\n",
      "blackd              jupyterlab_pygments requests_file       winnt\n",
      "bleach              jupyterlab_server   requests_toolbelt   winperf\n",
      "blib2to3            jupyterlab_widgets  retrying            winpty\n",
      "bokeh               jwt                 rfc3339_validator   winreg\n",
      "boltons             keyring             rfc3986_validator   winsound\n",
      "boto3               keyword             rlcompleter         winxpgui\n",
      "botocore            kiwisolver          rope                winxptheme\n",
      "bottleneck          lazy_loader         rtree               wrapt\n",
      "brotli              lazy_object_proxy   ruamel_yaml         wsgiref\n",
      "bs4                 lib2to3             runpy               xarray\n",
      "builtins            libarchive          s3fs                xdrlib\n",
      "bz2                 libfuturize         s3transfer          xlwings\n",
      "cProfile            libmambapy          sacremoses          xml\n",
      "calendar            libpasteurize       sched               xmlrpc\n",
      "certifi             lief                scipy               xxlimited\n",
      "cffi                linecache           scrapy              xxlimited_35\n",
      "cgi                 linkify_it          seaborn             xxsubtype\n",
      "cgitb               llvmlite            secrets             xyzservices\n",
      "chardet             lmdb                select              y_py\n",
      "charset_normalizer  locale              selectors           yaml\n",
      "chunk               locket              send2trash          yapf\n",
      "click               logging             service_identity    yapftests\n",
      "cloudpickle         lxml                servicemanager      yarl\n",
      "clyent              lz4                 setuptools          ypy_websocket\n",
      "cmath               lzma                shelve              zict\n",
      "cmd                 mailbox             shlex               zipapp\n",
      "code                mailcap             shutil              zipfile\n",
      "codecs              markdown            signal              zipimport\n",
      "codeop              markdown_it         sipbuild            zipp\n",
      "collections         markupsafe          site                zlib\n",
      "colorama            marshal             six                 zmq\n",
      "colorcet            math                skimage             zoneinfo\n",
      "colorsys            matplotlib          sklearn             zope\n",
      "comm                matplotlib_inline   sklearnex           zstandard\n",
      "commctrl            mccabe              slugify             \n",
      "compileall          mdit_py_plugins     smart_open          \n",
      "concurrent          mdurl               smtpd               \n",
      "\n",
      "Enter any module name to get more help.  Or, type \"modules spam\" to search\n",
      "for modules whose name or summary contain the string \"spam\".\n",
      "\n"
     ]
    }
   ],
   "source": [
    "help('modules')"
   ]
  },
  {
   "cell_type": "markdown",
   "id": "e758e48a",
   "metadata": {},
   "source": [
    "<font size=\"5\" face=\"Candara\" color=\"#00D989\">Import a module</font>"
   ]
  },
  {
   "cell_type": "code",
   "execution_count": 6,
   "id": "763a055d",
   "metadata": {},
   "outputs": [],
   "source": [
    "import statistics"
   ]
  },
  {
   "cell_type": "code",
   "execution_count": 7,
   "id": "fe5433d9",
   "metadata": {},
   "outputs": [],
   "source": [
    "num_list = [1, 2, 3, 4, 5, 6, 7, 8, 9, 10]"
   ]
  },
  {
   "cell_type": "code",
   "execution_count": 14,
   "id": "d15215c9",
   "metadata": {},
   "outputs": [
    {
     "data": {
      "text/plain": [
       "5.5"
      ]
     },
     "execution_count": 14,
     "metadata": {},
     "output_type": "execute_result"
    }
   ],
   "source": [
    "# Calling a module function | syntax: module_name.function(param1, param2,.....)\n",
    "statistics.mean(num_list)\n"
   ]
  },
  {
   "cell_type": "code",
   "execution_count": 11,
   "id": "8cdc822e",
   "metadata": {},
   "outputs": [],
   "source": [
    "from statistics import mean "
   ]
  },
  {
   "cell_type": "code",
   "execution_count": 12,
   "id": "d0860dca",
   "metadata": {},
   "outputs": [
    {
     "data": {
      "text/plain": [
       "5.5"
      ]
     },
     "execution_count": 12,
     "metadata": {},
     "output_type": "execute_result"
    }
   ],
   "source": [
    "mean(num_list)"
   ]
  },
  {
   "cell_type": "code",
   "execution_count": 13,
   "id": "b6ae162a",
   "metadata": {},
   "outputs": [
    {
     "data": {
      "text/plain": [
       "5.5"
      ]
     },
     "execution_count": 13,
     "metadata": {},
     "output_type": "execute_result"
    }
   ],
   "source": [
    "import statistics as sts\n",
    "\n",
    "sts.mean(num_list)"
   ]
  },
  {
   "cell_type": "code",
   "execution_count": null,
   "id": "57423e2f",
   "metadata": {},
   "outputs": [],
   "source": []
  }
 ],
 "metadata": {
  "kernelspec": {
   "display_name": "Python 3 (ipykernel)",
   "language": "python",
   "name": "python3"
  },
  "language_info": {
   "codemirror_mode": {
    "name": "ipython",
    "version": 3
   },
   "file_extension": ".py",
   "mimetype": "text/x-python",
   "name": "python",
   "nbconvert_exporter": "python",
   "pygments_lexer": "ipython3",
   "version": "3.11.4"
  }
 },
 "nbformat": 4,
 "nbformat_minor": 5
}
