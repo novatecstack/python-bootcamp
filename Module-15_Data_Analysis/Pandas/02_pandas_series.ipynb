{
 "cells": [
  {
   "cell_type": "markdown",
   "id": "4eb7298d",
   "metadata": {},
   "source": [
    "[Pandas Series](https://pandas.pydata.org/docs/reference/api/pandas.Series.html)\n",
    "\n",
    "Syntax: </br></br>\n",
    "pandas.Series(data=None, index=None, dtype=None, name=None, copy=None, fastpath=False)"
   ]
  },
  {
   "cell_type": "code",
   "execution_count": 14,
   "id": "98574774",
   "metadata": {},
   "outputs": [],
   "source": [
    "# Import the pandas package\n",
    "\n",
    "import pandas as pd"
   ]
  },
  {
   "cell_type": "code",
   "execution_count": 15,
   "id": "060ab9e2",
   "metadata": {},
   "outputs": [],
   "source": [
    "# Define Index List\n",
    "\n",
    "index_values = [0,1,2,3,4,5]"
   ]
  },
  {
   "cell_type": "code",
   "execution_count": 23,
   "id": "fcdf3452",
   "metadata": {},
   "outputs": [],
   "source": [
    "# Define the Data for Series\n",
    "\n",
    "data_list = [10,20,30,40,50,60]"
   ]
  },
  {
   "cell_type": "code",
   "execution_count": 24,
   "id": "f6bf6b0f",
   "metadata": {},
   "outputs": [],
   "source": [
    "# Create a Series\n",
    "\n",
    "series = pd.Series(data=data_list, index=index_values)"
   ]
  },
  {
   "cell_type": "code",
   "execution_count": 21,
   "id": "f2c4950d",
   "metadata": {},
   "outputs": [
    {
     "data": {
      "text/plain": [
       "0    10\n",
       "1    20\n",
       "2    30\n",
       "3    40\n",
       "4    50\n",
       "dtype: int64"
      ]
     },
     "execution_count": 21,
     "metadata": {},
     "output_type": "execute_result"
    }
   ],
   "source": [
    "series"
   ]
  },
  {
   "cell_type": "code",
   "execution_count": 27,
   "id": "034fcda7",
   "metadata": {},
   "outputs": [
    {
     "data": {
      "text/plain": [
       "40"
      ]
     },
     "execution_count": 27,
     "metadata": {},
     "output_type": "execute_result"
    }
   ],
   "source": [
    "# Get the value of particular series element\n",
    "\n",
    "series[3]"
   ]
  },
  {
   "cell_type": "code",
   "execution_count": 28,
   "id": "7d8c7119",
   "metadata": {},
   "outputs": [],
   "source": [
    "# Example \n",
    "\n",
    "months = [\"January\",\"February\",\"March\",\"April\",\"May\",\"June\",\"July\",\"August\",\"September\",\"October\",\"November\",\"December\"]\n",
    "\n",
    "no_of_fbusers = [\"2032423424\",\"2032423424\",\"2032423424\",\"2032423424\",\"2032423424\",\"2332423424\",\"4452423424\",\"242423424\",\"564523424\",\"2032423424\",\"2223323424\",\"203453424\"]"
   ]
  },
  {
   "cell_type": "code",
   "execution_count": 29,
   "id": "897a8838",
   "metadata": {},
   "outputs": [],
   "source": [
    "import pandas as pd"
   ]
  },
  {
   "cell_type": "code",
   "execution_count": 30,
   "id": "c56717a0",
   "metadata": {},
   "outputs": [],
   "source": [
    "fb_userseries = pd.Series(data=no_of_fbusers, index=months)"
   ]
  },
  {
   "cell_type": "code",
   "execution_count": 31,
   "id": "64f792a4",
   "metadata": {},
   "outputs": [
    {
     "data": {
      "text/plain": [
       "January      2032423424\n",
       "February     2032423424\n",
       "March        2032423424\n",
       "April        2032423424\n",
       "May          2032423424\n",
       "June         2332423424\n",
       "July         4452423424\n",
       "August        242423424\n",
       "September     564523424\n",
       "October      2032423424\n",
       "November     2223323424\n",
       "December      203453424\n",
       "dtype: object"
      ]
     },
     "execution_count": 31,
     "metadata": {},
     "output_type": "execute_result"
    }
   ],
   "source": [
    "fb_userseries"
   ]
  },
  {
   "cell_type": "code",
   "execution_count": 32,
   "id": "28c1dc9a",
   "metadata": {},
   "outputs": [
    {
     "data": {
      "text/plain": [
       "pandas.core.series.Series"
      ]
     },
     "execution_count": 32,
     "metadata": {},
     "output_type": "execute_result"
    }
   ],
   "source": [
    "type(fb_userseries)"
   ]
  },
  {
   "cell_type": "code",
   "execution_count": 38,
   "id": "4f9a5998",
   "metadata": {},
   "outputs": [
    {
     "data": {
      "text/plain": [
       "'2332423424'"
      ]
     },
     "execution_count": 38,
     "metadata": {},
     "output_type": "execute_result"
    }
   ],
   "source": [
    "fb_userseries['June']"
   ]
  },
  {
   "cell_type": "code",
   "execution_count": 37,
   "id": "94068987",
   "metadata": {},
   "outputs": [
    {
     "data": {
      "text/plain": [
       "August     242423424\n",
       "June      2332423424\n",
       "dtype: object"
      ]
     },
     "execution_count": 37,
     "metadata": {},
     "output_type": "execute_result"
    }
   ],
   "source": [
    "fb_userseries[['August','June']]"
   ]
  },
  {
   "cell_type": "code",
   "execution_count": 39,
   "id": "48544f2e",
   "metadata": {},
   "outputs": [
    {
     "data": {
      "text/plain": [
       "January      2032423424\n",
       "February     2032423424\n",
       "March        2032423424\n",
       "April        2032423424\n",
       "May          2032423424\n",
       "June         2332423424\n",
       "July         4452423424\n",
       "August        242423424\n",
       "September     564523424\n",
       "October      2032423424\n",
       "November     2223323424\n",
       "December      203453424\n",
       "dtype: object"
      ]
     },
     "execution_count": 39,
     "metadata": {},
     "output_type": "execute_result"
    }
   ],
   "source": [
    "fb_userseries"
   ]
  },
  {
   "cell_type": "code",
   "execution_count": 40,
   "id": "a6ba4cfb",
   "metadata": {},
   "outputs": [],
   "source": [
    "fb_userseries = pd.Series(data=no_of_fbusers, index=months, dtype='float')"
   ]
  },
  {
   "cell_type": "code",
   "execution_count": 41,
   "id": "e313a51e",
   "metadata": {},
   "outputs": [
    {
     "data": {
      "text/plain": [
       "January      2.032423e+09\n",
       "February     2.032423e+09\n",
       "March        2.032423e+09\n",
       "April        2.032423e+09\n",
       "May          2.032423e+09\n",
       "June         2.332423e+09\n",
       "July         4.452423e+09\n",
       "August       2.424234e+08\n",
       "September    5.645234e+08\n",
       "October      2.032423e+09\n",
       "November     2.223323e+09\n",
       "December     2.034534e+08\n",
       "dtype: float64"
      ]
     },
     "execution_count": 41,
     "metadata": {},
     "output_type": "execute_result"
    }
   ],
   "source": [
    "fb_userseries"
   ]
  },
  {
   "cell_type": "code",
   "execution_count": 44,
   "id": "aeb42f1d",
   "metadata": {},
   "outputs": [],
   "source": [
    "fb_userseries = pd.Series(data=no_of_fbusers, index=months, dtype='g')"
   ]
  },
  {
   "cell_type": "code",
   "execution_count": 45,
   "id": "69a0a128",
   "metadata": {},
   "outputs": [
    {
     "data": {
      "text/plain": [
       "January      2.032423e+09\n",
       "February     2.032423e+09\n",
       "March        2.032423e+09\n",
       "April        2.032423e+09\n",
       "May          2.032423e+09\n",
       "June         2.332423e+09\n",
       "July         4.452423e+09\n",
       "August       2.424234e+08\n",
       "September    5.645234e+08\n",
       "October      2.032423e+09\n",
       "November     2.223323e+09\n",
       "December     2.034534e+08\n",
       "dtype: float64"
      ]
     },
     "execution_count": 45,
     "metadata": {},
     "output_type": "execute_result"
    }
   ],
   "source": [
    "fb_userseries"
   ]
  },
  {
   "cell_type": "markdown",
   "id": "94c58522",
   "metadata": {},
   "source": [
    "Python Dictionary to Series\n",
    "\n",
    "When you convert the Python Dictionary to Series, Key becomes 'index' and Value becomes the 'Data'"
   ]
  },
  {
   "cell_type": "code",
   "execution_count": 47,
   "id": "f9efc026",
   "metadata": {},
   "outputs": [],
   "source": [
    "sample_dict = {'Name':'Ashish', 'Company':'Eaton', 'Role':'Manager'}"
   ]
  },
  {
   "cell_type": "code",
   "execution_count": 51,
   "id": "75248b59",
   "metadata": {},
   "outputs": [],
   "source": [
    "dict_series = pd.Series(data=sample_dict)"
   ]
  },
  {
   "cell_type": "code",
   "execution_count": 52,
   "id": "47694b7e",
   "metadata": {},
   "outputs": [
    {
     "data": {
      "text/plain": [
       "'Ashish'"
      ]
     },
     "execution_count": 52,
     "metadata": {},
     "output_type": "execute_result"
    }
   ],
   "source": [
    "dict_series['Name']"
   ]
  }
 ],
 "metadata": {
  "kernelspec": {
   "display_name": "Python 3 (ipykernel)",
   "language": "python",
   "name": "python3"
  },
  "language_info": {
   "codemirror_mode": {
    "name": "ipython",
    "version": 3
   },
   "file_extension": ".py",
   "mimetype": "text/x-python",
   "name": "python",
   "nbconvert_exporter": "python",
   "pygments_lexer": "ipython3",
   "version": "3.11.4"
  }
 },
 "nbformat": 4,
 "nbformat_minor": 5
}
