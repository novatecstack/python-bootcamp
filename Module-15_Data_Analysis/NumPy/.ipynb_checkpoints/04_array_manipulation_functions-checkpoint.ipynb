{
 "cells": [
  {
   "cell_type": "markdown",
   "id": "3695d299",
   "metadata": {},
   "source": [
    "Array manipulation"
   ]
  },
  {
   "cell_type": "code",
   "execution_count": 2,
   "id": "c2867031",
   "metadata": {},
   "outputs": [],
   "source": [
    "import numpy as np"
   ]
  },
  {
   "cell_type": "code",
   "execution_count": 6,
   "id": "ab90a7e2",
   "metadata": {},
   "outputs": [],
   "source": [
    "array_1 = []"
   ]
  },
  {
   "cell_type": "code",
   "execution_count": 7,
   "id": "0292af6c",
   "metadata": {},
   "outputs": [],
   "source": [
    "array_2 = []"
   ]
  },
  {
   "cell_type": "code",
   "execution_count": null,
   "id": "97fa11c0",
   "metadata": {},
   "outputs": [],
   "source": []
  }
 ],
 "metadata": {
  "kernelspec": {
   "display_name": "Python 3 (ipykernel)",
   "language": "python",
   "name": "python3"
  },
  "language_info": {
   "codemirror_mode": {
    "name": "ipython",
    "version": 3
   },
   "file_extension": ".py",
   "mimetype": "text/x-python",
   "name": "python",
   "nbconvert_exporter": "python",
   "pygments_lexer": "ipython3",
   "version": "3.11.4"
  }
 },
 "nbformat": 4,
 "nbformat_minor": 5
}
