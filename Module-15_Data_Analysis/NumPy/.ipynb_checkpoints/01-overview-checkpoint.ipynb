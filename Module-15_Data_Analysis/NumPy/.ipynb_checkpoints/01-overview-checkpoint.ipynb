{
 "cells": [
  {
   "cell_type": "markdown",
   "id": "3ea39ef6",
   "metadata": {},
   "source": [
    "NumPy (Numerical Python)\n",
    "\n",
    "- NumPy is a Python library used for working with arrays.\n",
    "- NumPy has multiple functions for working in domain of linear algebra, fourier transform, and matrices.\n",
    "\n",
    "What is an Array?\n",
    "- Array is \"Homogenious\". i.e all the values in an array must of of the same type.\n",
    "\n",
    "One-dimentional Array\n",
    "- One-dimentional array is somewhat similar to List in the sense that it is ordered, mutatable and enclosed on square brackets.\n",
    "\n",
    "  ```\n",
    "    1-Dimentional Array\n",
    "    \n",
    "    [12,45,66,21,10,20]\n",
    "  \n",
    "  ```\n",
    "Two-dimentional array\n",
    "- Two-dimentional arrays are list of lists. Also can be refered to as Matrix.\n",
    "- Matrices are arranged in ROWS and COLUMNS.\n",
    "- Have two axes:\n",
    "  - 0-axes (rows)\n",
    "  - 1-axes (cols)\n",
    "  \n",
    "  \n",
    "  ```\n",
    "    2-Dimentional Array\n",
    "    \n",
    "    [22,33,44,55,66,77]\n",
    "    [23,74,66,35,78,99]\n",
    "    [10,29,39,47,22,12]\n",
    "  ```\n",
    "\n",
    "- Note: In NumPy, the numbering starts with zero."
   ]
  },
  {
   "cell_type": "markdown",
   "id": "5a636ca3",
   "metadata": {},
   "source": [
    "Install NumPy Library"
   ]
  },
  {
   "cell_type": "code",
   "execution_count": 72,
   "id": "95cca621",
   "metadata": {},
   "outputs": [],
   "source": [
    "# Install using pip package manager\n",
    "\n",
    "# !pip install pandas"
   ]
  },
  {
   "cell_type": "code",
   "execution_count": 73,
   "id": "77bc233d",
   "metadata": {},
   "outputs": [],
   "source": [
    "# Install using conda package manager\n",
    "\n",
    "# !conda install pandas"
   ]
  },
  {
   "cell_type": "markdown",
   "id": "17a8cac2",
   "metadata": {},
   "source": [
    "Import NumPy library"
   ]
  },
  {
   "cell_type": "code",
   "execution_count": 74,
   "id": "fd2b5540",
   "metadata": {},
   "outputs": [],
   "source": [
    "import numpy as np"
   ]
  },
  {
   "cell_type": "markdown",
   "id": "860acaba",
   "metadata": {},
   "source": [
    "Creating an Array"
   ]
  },
  {
   "cell_type": "code",
   "execution_count": 75,
   "id": "c9cc0dfc",
   "metadata": {},
   "outputs": [],
   "source": [
    "# You can use python list, or tuple or set to create an Array\n",
    "\n",
    "num_list = [10,20,30,40,50]\n",
    "num_tuple = (10,20,30,40,50)\n",
    "num_set = {10,20,30,40,50}"
   ]
  },
  {
   "cell_type": "code",
   "execution_count": 83,
   "id": "d685c325",
   "metadata": {},
   "outputs": [
    {
     "data": {
      "text/plain": [
       "array([10, 20, 30, 40, 50])"
      ]
     },
     "execution_count": 83,
     "metadata": {},
     "output_type": "execute_result"
    }
   ],
   "source": [
    "np.array(num_list)"
   ]
  },
  {
   "cell_type": "code",
   "execution_count": 84,
   "id": "90b888da",
   "metadata": {
    "scrolled": true
   },
   "outputs": [
    {
     "data": {
      "text/plain": [
       "array([10, 20, 30, 40, 50])"
      ]
     },
     "execution_count": 84,
     "metadata": {},
     "output_type": "execute_result"
    }
   ],
   "source": [
    "np.array(num_tuple)"
   ]
  },
  {
   "cell_type": "code",
   "execution_count": 85,
   "id": "01ea7b53",
   "metadata": {},
   "outputs": [
    {
     "data": {
      "text/plain": [
       "array({50, 20, 40, 10, 30}, dtype=object)"
      ]
     },
     "execution_count": 85,
     "metadata": {},
     "output_type": "execute_result"
    }
   ],
   "source": [
    "np.array(num_set)"
   ]
  },
  {
   "cell_type": "code",
   "execution_count": 86,
   "id": "bac9ede4",
   "metadata": {},
   "outputs": [
    {
     "data": {
      "text/plain": [
       "numpy.ndarray"
      ]
     },
     "execution_count": 86,
     "metadata": {},
     "output_type": "execute_result"
    }
   ],
   "source": [
    "type(np.array(num_list))"
   ]
  },
  {
   "cell_type": "markdown",
   "id": "c86d03cd",
   "metadata": {},
   "source": [
    "Check the shape of the Matrix"
   ]
  },
  {
   "cell_type": "code",
   "execution_count": 87,
   "id": "69e648da",
   "metadata": {},
   "outputs": [
    {
     "data": {
      "text/plain": [
       "(5,)"
      ]
     },
     "execution_count": 87,
     "metadata": {},
     "output_type": "execute_result"
    }
   ],
   "source": [
    "np.shape(num_list)"
   ]
  },
  {
   "cell_type": "markdown",
   "id": "56183659",
   "metadata": {},
   "source": [
    "2-Dimentional Array"
   ]
  },
  {
   "cell_type": "code",
   "execution_count": 90,
   "id": "f7565934",
   "metadata": {},
   "outputs": [],
   "source": [
    "array_2d_list = ([10, 20, 30, 40, 50],[10, 20, 30, 40, 50],[10, 20, 30, 40, 50])"
   ]
  },
  {
   "cell_type": "code",
   "execution_count": 92,
   "id": "132dd9c5",
   "metadata": {},
   "outputs": [
    {
     "data": {
      "text/plain": [
       "(3, 5)"
      ]
     },
     "execution_count": 92,
     "metadata": {},
     "output_type": "execute_result"
    }
   ],
   "source": [
    "np.shape(array_2d_list)"
   ]
  },
  {
   "cell_type": "markdown",
   "id": "7e8d7a16",
   "metadata": {},
   "source": [
    "[NumPy Datatype Objects](https://numpy.org/doc/stable/user/basics.types.html)"
   ]
  },
  {
   "cell_type": "code",
   "execution_count": 96,
   "id": "c274ef35",
   "metadata": {},
   "outputs": [
    {
     "data": {
      "text/plain": [
       "array([10, 20, 30, 40, 50], dtype=int16)"
      ]
     },
     "execution_count": 96,
     "metadata": {},
     "output_type": "execute_result"
    }
   ],
   "source": [
    "# Short Integer\n",
    "\n",
    "np.short(num_list)"
   ]
  },
  {
   "cell_type": "code",
   "execution_count": 99,
   "id": "b4fa95b0",
   "metadata": {},
   "outputs": [
    {
     "data": {
      "text/plain": [
       "array([10., 20., 30., 40., 50.], dtype=float16)"
      ]
     },
     "execution_count": 99,
     "metadata": {},
     "output_type": "execute_result"
    }
   ],
   "source": [
    "# Float\n",
    "\n",
    "np.array(num_list,dtype='e')"
   ]
  },
  {
   "cell_type": "code",
   "execution_count": 103,
   "id": "e3a2716d",
   "metadata": {},
   "outputs": [
    {
     "data": {
      "text/plain": [
       "array([10., 20., 30., 40., 50.], dtype=float64)"
      ]
     },
     "execution_count": 103,
     "metadata": {},
     "output_type": "execute_result"
    }
   ],
   "source": [
    "# Longdouble\n",
    "\n",
    "np.array(num_list,dtype='g')"
   ]
  },
  {
   "cell_type": "code",
   "execution_count": 106,
   "id": "7487bed4",
   "metadata": {},
   "outputs": [
    {
     "data": {
      "text/plain": [
       "array([ True, False,  True])"
      ]
     },
     "execution_count": 106,
     "metadata": {},
     "output_type": "execute_result"
    }
   ],
   "source": [
    "# Boolean\n",
    "\n",
    "temp_numlist = [10,'',30]\n",
    "np.array(temp_numlist,dtype='?')"
   ]
  },
  {
   "cell_type": "code",
   "execution_count": null,
   "id": "c3275de6",
   "metadata": {},
   "outputs": [],
   "source": []
  }
 ],
 "metadata": {
  "kernelspec": {
   "display_name": "Python 3 (ipykernel)",
   "language": "python",
   "name": "python3"
  },
  "language_info": {
   "codemirror_mode": {
    "name": "ipython",
    "version": 3
   },
   "file_extension": ".py",
   "mimetype": "text/x-python",
   "name": "python",
   "nbconvert_exporter": "python",
   "pygments_lexer": "ipython3",
   "version": "3.11.4"
  }
 },
 "nbformat": 4,
 "nbformat_minor": 5
}
