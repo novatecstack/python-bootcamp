{
 "cells": [
  {
   "cell_type": "markdown",
   "id": "41daab7e",
   "metadata": {},
   "source": [
    "Array Slicing"
   ]
  },
  {
   "cell_type": "code",
   "execution_count": 2,
   "id": "bdb6e082",
   "metadata": {},
   "outputs": [],
   "source": [
    "import numpy as np"
   ]
  },
  {
   "cell_type": "code",
   "execution_count": 9,
   "id": "4128c159",
   "metadata": {},
   "outputs": [],
   "source": [
    "# 1-D Array\n",
    "\n",
    "array_1 = ([10,20,30,40,50])"
   ]
  },
  {
   "cell_type": "code",
   "execution_count": 10,
   "id": "9d9f020b",
   "metadata": {},
   "outputs": [],
   "source": [
    "# 2-D Array\n",
    "\n",
    "array_2 = ([[10,20,30,40,50]])"
   ]
  },
  {
   "cell_type": "code",
   "execution_count": 11,
   "id": "02d5f0c2",
   "metadata": {},
   "outputs": [
    {
     "data": {
      "text/plain": [
       "(5,)"
      ]
     },
     "execution_count": 11,
     "metadata": {},
     "output_type": "execute_result"
    }
   ],
   "source": [
    "np.shape(array_1)"
   ]
  },
  {
   "cell_type": "code",
   "execution_count": 12,
   "id": "6a9fd0e1",
   "metadata": {},
   "outputs": [
    {
     "data": {
      "text/plain": [
       "(1, 5)"
      ]
     },
     "execution_count": 12,
     "metadata": {},
     "output_type": "execute_result"
    }
   ],
   "source": [
    "np.shape(array_2)"
   ]
  },
  {
   "cell_type": "markdown",
   "id": "bc9d4c9b",
   "metadata": {},
   "source": [
    "Indexing and Slicing"
   ]
  },
  {
   "cell_type": "code",
   "execution_count": 15,
   "id": "b470fdf6",
   "metadata": {},
   "outputs": [],
   "source": [
    "array_1 = ([10,20,30,40,50,60,70,80,90,100])\n",
    "\n",
    "array_2 = ([[10,20,30,40,50],[60,33,43,64,11],[99,34,76,10,14]])"
   ]
  },
  {
   "cell_type": "code",
   "execution_count": 16,
   "id": "42571ffc",
   "metadata": {},
   "outputs": [
    {
     "data": {
      "text/plain": [
       "30"
      ]
     },
     "execution_count": 16,
     "metadata": {},
     "output_type": "execute_result"
    }
   ],
   "source": [
    "# Slicing a 1-D array\n",
    "# Example: If you want to slice 3rd element of array_1\n",
    "\n",
    "array_1[2]"
   ]
  },
  {
   "cell_type": "code",
   "execution_count": 18,
   "id": "083c3871",
   "metadata": {},
   "outputs": [
    {
     "data": {
      "text/plain": [
       "[40, 50, 60, 70, 80, 90, 100]"
      ]
     },
     "execution_count": 18,
     "metadata": {},
     "output_type": "execute_result"
    }
   ],
   "source": [
    "array_1[3:]"
   ]
  },
  {
   "cell_type": "code",
   "execution_count": 20,
   "id": "861d59f4",
   "metadata": {
    "scrolled": true
   },
   "outputs": [
    {
     "data": {
      "text/plain": [
       "[40, 50, 60, 70]"
      ]
     },
     "execution_count": 20,
     "metadata": {},
     "output_type": "execute_result"
    }
   ],
   "source": [
    "array_1[3:7]"
   ]
  },
  {
   "cell_type": "code",
   "execution_count": 23,
   "id": "ff25eee7",
   "metadata": {},
   "outputs": [
    {
     "data": {
      "text/plain": [
       "[100, 90, 80, 70, 60, 50, 40, 30, 20, 10]"
      ]
     },
     "execution_count": 23,
     "metadata": {},
     "output_type": "execute_result"
    }
   ],
   "source": [
    "array_1[::-1]"
   ]
  },
  {
   "cell_type": "code",
   "execution_count": 14,
   "id": "5ee62cc7",
   "metadata": {},
   "outputs": [],
   "source": [
    "# Slicing a 2-D array\n",
    "# Example: If you want to slice 3rd element of array_1"
   ]
  },
  {
   "cell_type": "code",
   "execution_count": 39,
   "id": "ee50420f",
   "metadata": {},
   "outputs": [],
   "source": [
    "nparray_2 = np.array(array_2)"
   ]
  },
  {
   "cell_type": "code",
   "execution_count": 43,
   "id": "e9e81f00",
   "metadata": {},
   "outputs": [
    {
     "data": {
      "text/plain": [
       "array([[10, 20, 30, 40, 50],\n",
       "       [60, 33, 43, 64, 11],\n",
       "       [99, 34, 76, 10, 14]])"
      ]
     },
     "execution_count": 43,
     "metadata": {},
     "output_type": "execute_result"
    }
   ],
   "source": [
    "nparray_2"
   ]
  },
  {
   "cell_type": "code",
   "execution_count": 40,
   "id": "fc838d6a",
   "metadata": {},
   "outputs": [
    {
     "data": {
      "text/plain": [
       "(3, 5)"
      ]
     },
     "execution_count": 40,
     "metadata": {},
     "output_type": "execute_result"
    }
   ],
   "source": [
    "np.shape(nparray_2)"
   ]
  },
  {
   "cell_type": "code",
   "execution_count": 42,
   "id": "40ddb28a",
   "metadata": {},
   "outputs": [
    {
     "data": {
      "text/plain": [
       "array([[33, 43, 64, 11],\n",
       "       [34, 76, 10, 14]])"
      ]
     },
     "execution_count": 42,
     "metadata": {},
     "output_type": "execute_result"
    }
   ],
   "source": [
    "nparray_2[1:,1:]"
   ]
  },
  {
   "cell_type": "code",
   "execution_count": 47,
   "id": "516a48c3",
   "metadata": {},
   "outputs": [
    {
     "data": {
      "text/plain": [
       "64"
      ]
     },
     "execution_count": 47,
     "metadata": {},
     "output_type": "execute_result"
    }
   ],
   "source": [
    "nparray_2[1,3]"
   ]
  },
  {
   "cell_type": "code",
   "execution_count": 51,
   "id": "22e5344e",
   "metadata": {},
   "outputs": [
    {
     "data": {
      "text/plain": [
       "array([[99, 34, 76, 10, 14],\n",
       "       [60, 33, 43, 64, 11],\n",
       "       [10, 20, 30, 40, 50]])"
      ]
     },
     "execution_count": 51,
     "metadata": {},
     "output_type": "execute_result"
    }
   ],
   "source": [
    "# Flip 2-D Array on 0 axes\n",
    "\n",
    "nparray_2[::-1,]"
   ]
  },
  {
   "cell_type": "code",
   "execution_count": 56,
   "id": "5c958055",
   "metadata": {},
   "outputs": [
    {
     "data": {
      "text/plain": [
       "array([[50, 40, 30, 20, 10],\n",
       "       [11, 64, 43, 33, 60],\n",
       "       [14, 10, 76, 34, 99]])"
      ]
     },
     "execution_count": 56,
     "metadata": {},
     "output_type": "execute_result"
    }
   ],
   "source": [
    "# Flip 2-D array on 1 axes\n",
    "\n",
    "nparray_2[:,::-1]"
   ]
  }
 ],
 "metadata": {
  "kernelspec": {
   "display_name": "Python 3 (ipykernel)",
   "language": "python",
   "name": "python3"
  },
  "language_info": {
   "codemirror_mode": {
    "name": "ipython",
    "version": 3
   },
   "file_extension": ".py",
   "mimetype": "text/x-python",
   "name": "python",
   "nbconvert_exporter": "python",
   "pygments_lexer": "ipython3",
   "version": "3.11.4"
  }
 },
 "nbformat": 4,
 "nbformat_minor": 5
}
