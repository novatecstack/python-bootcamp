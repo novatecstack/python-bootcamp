{
 "cells": [
  {
   "cell_type": "markdown",
   "id": "2b98d7d2",
   "metadata": {},
   "source": [
    "Write to a file"
   ]
  },
  {
   "cell_type": "markdown",
   "id": "7ca1727d",
   "metadata": {},
   "source": [
    "    Example-01: Write text to a file"
   ]
  },
  {
   "cell_type": "code",
   "execution_count": 2,
   "id": "44bf3c76",
   "metadata": {},
   "outputs": [],
   "source": [
    "file_obj = open('samplefile.txt','w')"
   ]
  },
  {
   "cell_type": "code",
   "execution_count": 3,
   "id": "947cc0ad",
   "metadata": {},
   "outputs": [],
   "source": [
    "# text to be added to the file\n",
    "msg = 'Python programming is awesome'"
   ]
  },
  {
   "cell_type": "code",
   "execution_count": 4,
   "id": "ea5290c2",
   "metadata": {},
   "outputs": [
    {
     "data": {
      "text/plain": [
       "29"
      ]
     },
     "execution_count": 4,
     "metadata": {},
     "output_type": "execute_result"
    }
   ],
   "source": [
    "file_obj.write(msg)"
   ]
  },
  {
   "cell_type": "code",
   "execution_count": 5,
   "id": "326b5b18",
   "metadata": {},
   "outputs": [],
   "source": [
    "# close the file\n",
    "\n",
    "file_obj.close()"
   ]
  },
  {
   "cell_type": "markdown",
   "id": "1b05c746",
   "metadata": {},
   "source": [
    "    Example-02: Write multiple lines into text"
   ]
  },
  {
   "cell_type": "code",
   "execution_count": 12,
   "id": "d09da978",
   "metadata": {},
   "outputs": [],
   "source": [
    "file_obj = open('samplefile.txt','w')"
   ]
  },
  {
   "cell_type": "code",
   "execution_count": 13,
   "id": "df959642",
   "metadata": {},
   "outputs": [
    {
     "name": "stdout",
     "output_type": "stream",
     "text": [
      "Enter some text here to add to the file and enter # char when you are done: \n"
     ]
    }
   ],
   "source": [
    "print('Enter some text here to add to the file and enter # char when you are done: ')"
   ]
  },
  {
   "cell_type": "code",
   "execution_count": 14,
   "id": "53077d38",
   "metadata": {},
   "outputs": [
    {
     "name": "stdout",
     "output_type": "stream",
     "text": [
      "kjdf\n",
      "sfddf\n",
      "dfdfd\n",
      "#\n"
     ]
    }
   ],
   "source": [
    "msg = ''\n",
    "\n",
    "while msg != '#':\n",
    "    msg = input()\n",
    "    file_obj.write(msg+'\\n')\n",
    "\n",
    "file_obj.close()"
   ]
  },
  {
   "cell_type": "code",
   "execution_count": null,
   "id": "80f75476",
   "metadata": {},
   "outputs": [],
   "source": []
  }
 ],
 "metadata": {
  "kernelspec": {
   "display_name": "Python 3 (ipykernel)",
   "language": "python",
   "name": "python3"
  },
  "language_info": {
   "codemirror_mode": {
    "name": "ipython",
    "version": 3
   },
   "file_extension": ".py",
   "mimetype": "text/x-python",
   "name": "python",
   "nbconvert_exporter": "python",
   "pygments_lexer": "ipython3",
   "version": "3.11.4"
  }
 },
 "nbformat": 4,
 "nbformat_minor": 5
}
